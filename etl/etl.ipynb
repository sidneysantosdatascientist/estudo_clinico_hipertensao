{
  "nbformat": 4,
  "nbformat_minor": 0,
  "metadata": {
    "colab": {
      "provenance": []
    },
    "kernelspec": {
      "name": "python3",
      "display_name": "Python 3"
    },
    "language_info": {
      "name": "python"
    }
  },
  "cells": [
    {
      "cell_type": "code",
      "execution_count": null,
      "metadata": {
        "id": "yv80zY-Y0TM6"
      },
      "outputs": [],
      "source": [
        "import pandas as pd\n",
        "\n",
        "# Carregando os arquivos CSV\n",
        "pacientes = pd.read_csv(\"pacientes.csv\")\n",
        "visitas = pd.read_csv(\"visitas.csv\")\n",
        "eventos = pd.read_csv(\"eventos_adversos.csv\")\n",
        "\n",
        "# Conversão de datas\n",
        "pacientes[\"DATA_ENTRADA\"] = pd.to_datetime(pacientes[\"DATA_ENTRADA\"])\n",
        "visitas[\"DATA_VISITA\"] = pd.to_datetime(visitas[\"DATA_VISITA\"])\n",
        "eventos[\"DATA_EVENTO\"] = pd.to_datetime(eventos[\"DATA_EVENTO\"])\n",
        "\n",
        "# Criação de faixa etária\n",
        "bins = [0, 30, 60, 120]\n",
        "labels = [\"<30\", \"30-60\", \">60\"]\n",
        "pacientes[\"FAIXA_ETARIA\"] = pd.cut(pacientes[\"IDADE\"], bins=bins, labels=labels, right=False)\n",
        "\n",
        "# Indicador de hipertensão controlada\n",
        "visitas[\"PA_CONTROLADA\"] = ((visitas[\"PA_SISTOLICA\"] < 140) & (visitas[\"PA_DIASTOLICA\"] < 90))\n",
        "\n",
        "# Cálculo do tempo de acompanhamento\n",
        "ultima_visita = visitas.groupby(\"ID_PACIENTE\")[\"DATA_VISITA\"].max().reset_index()\n",
        "ultima_visita.columns = [\"ID\", \"DATA_ULTIMA_VISITA\"]\n",
        "pacientes = pacientes.merge(ultima_visita, on=\"ID\", how=\"left\")\n",
        "pacientes[\"TEMPO_ACOMPANHAMENTO\"] = (pacientes[\"DATA_ULTIMA_VISITA\"] - pacientes[\"DATA_ENTRADA\"]).dt.days\n",
        "\n",
        "# Exportação de dados tratados (opcional)\n",
        "# pacientes.to_csv(\"pacientes_tratado.csv\", index=False)\n",
        "# visitas.to_csv(\"visitas_tratado.csv\", index=False)\n",
        "# eventos.to_csv(\"eventos_tratado.csv\", index=False)"
      ]
    }
  ]
}