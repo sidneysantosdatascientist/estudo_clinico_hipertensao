{
  "nbformat": 4,
  "nbformat_minor": 0,
  "metadata": {
    "colab": {
      "provenance": []
    },
    "kernelspec": {
      "name": "python3",
      "display_name": "Python 3"
    },
    "language_info": {
      "name": "python"
    }
  },
  "cells": [
    {
      "cell_type": "code",
      "execution_count": 1,
      "metadata": {
        "id": "DEA05h6t3LgW"
      },
      "outputs": [],
      "source": [
        "# -*- coding: utf-8 -*-\n",
        "\n",
        "\n",
        "import pandas as pd\n",
        "import numpy as np\n",
        "\n",
        "# Configurações iniciais\n",
        "num_pacientes = 100\n",
        "np.random.seed(42)\n",
        "\n",
        "# --------------------------\n",
        "# Tabela 1: Pacientes\n",
        "# --------------------------\n",
        "ids = np.arange(1, num_pacientes + 1)\n",
        "idades = np.random.randint(30, 80, num_pacientes)\n",
        "sexos = np.random.choice(['Masculino', 'Feminino'], num_pacientes)\n",
        "centros = np.random.choice(['Centro A', 'Centro B', 'Centro C'], num_pacientes)\n",
        "grupo_tratamento = np.random.choice(['Controle', 'Tratamento'], num_pacientes)\n",
        "\n",
        "df_pacientes = pd.DataFrame({\n",
        "    'ID_Paciente': ids,\n",
        "    'Idade': idades,\n",
        "    'Sexo': sexos,\n",
        "    'Centro': centros,\n",
        "    'Grupo': grupo_tratamento\n",
        "})\n",
        "\n",
        "# --------------------------\n",
        "# Tabela 2: Visitas Clínicas com IMC e Glicemia\n",
        "# --------------------------\n",
        "visitas = []\n",
        "for id_paciente in ids:\n",
        "    num_visitas = np.random.randint(1, 5)\n",
        "    datas = pd.date_range(start='2025-01-01', periods=num_visitas, freq='30D')\n",
        "    for data in datas:\n",
        "        pa_sistolica = np.random.randint(110, 180)\n",
        "        pa_diastolica = np.random.randint(70, 110)\n",
        "        imc = round(np.random.normal(loc=27, scale=4), 1)\n",
        "        glicemia = round(np.random.normal(loc=95, scale=15), 1)\n",
        "        adesao = np.random.choice(['Sim', 'Não'], p=[0.85, 0.15])\n",
        "        evento = np.random.choice(['Nenhum', 'Tontura', 'Cefaleia', 'Náusea'], p=[0.8, 0.1, 0.05, 0.05])\n",
        "        visitas.append([id_paciente, data.date(), pa_sistolica, pa_diastolica, imc, glicemia, adesao, evento])\n",
        "\n",
        "df_visitas = pd.DataFrame(visitas, columns=[\n",
        "    'ID_Paciente', 'Data_Visita', 'PA_Sistolica', 'PA_Diastolica', 'IMC', 'Glicemia', 'Adesao', 'Evento_Adverso'\n",
        "])\n",
        "\n",
        "# --------------------------\n",
        "# Tabela 3: Eventos Adversos Detalhados\n",
        "# --------------------------\n",
        "df_eventos = df_visitas[df_visitas['Evento_Adverso'] != 'Nenhum'].copy()\n",
        "df_eventos['Gravidade'] = np.random.choice(['Leve', 'Moderada', 'Grave'], len(df_eventos), p=[0.6, 0.3, 0.1])\n",
        "\n",
        "# Salvar arquivos\n",
        "df_pacientes.to_csv('pacientes.csv', index=False)\n",
        "df_visitas.to_csv('visitas.csv', index=False)\n",
        "df_eventos.to_csv('eventos_adversos.csv', index=False)"
      ]
    }
  ]
}